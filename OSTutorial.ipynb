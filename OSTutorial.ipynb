{
 "cells": [
  {
   "cell_type": "markdown",
   "metadata": {},
   "source": [
    "# Python Tutorial: File renaming"
   ]
  },
  {
   "cell_type": "code",
   "execution_count": 1,
   "metadata": {},
   "outputs": [],
   "source": [
    "import os"
   ]
  },
  {
   "cell_type": "code",
   "execution_count": 8,
   "metadata": {},
   "outputs": [],
   "source": [
    "os.chdir('/Users/angela/Documents/BMI/NURS 6806 Computer Science Fundamentals/myProjects/exerPythFileRename/Videos')"
   ]
  },
  {
   "cell_type": "code",
   "execution_count": 9,
   "metadata": {},
   "outputs": [
    {
     "name": "stdout",
     "output_type": "stream",
     "text": [
      "/Users/angela/Documents/BMI/NURS 6806 Computer Science Fundamentals/myProjects/exerPythFileRename/Videos\n"
     ]
    }
   ],
   "source": [
    "print(os.getcwd())"
   ]
  },
  {
   "cell_type": "code",
   "execution_count": 10,
   "metadata": {},
   "outputs": [
    {
     "name": "stdout",
     "output_type": "stream",
     "text": [
      "Uranus - Our Solar System - #9.mp3\n",
      "The Sun - Our Solar System - #1.mp3\n",
      "Saturn - Our Solar System - #7.mp3\n",
      "Earth - Our Solar System - #4.mp3\n",
      "Pluto - Our Solar System - #10.mp3\n",
      "Mars - Our Solar System - #5.mp3\n",
      "Mercury - Our Solar System - #2.mp3\n",
      "Venus - Our Solar System - #3.mp3\n",
      "Jupiter - Our Solar System - #6.mp3\n",
      "Neptune - Our Solar System - #8.mp3\n"
     ]
    }
   ],
   "source": [
    "for f in os.listdir():\n",
    "    print(f)"
   ]
  },
  {
   "cell_type": "code",
   "execution_count": 11,
   "metadata": {},
   "outputs": [
    {
     "name": "stdout",
     "output_type": "stream",
     "text": [
      "('Uranus - Our Solar System - #9', '.mp3')\n",
      "('The Sun - Our Solar System - #1', '.mp3')\n",
      "('Saturn - Our Solar System - #7', '.mp3')\n",
      "('Earth - Our Solar System - #4', '.mp3')\n",
      "('Pluto - Our Solar System - #10', '.mp3')\n",
      "('Mars - Our Solar System - #5', '.mp3')\n",
      "('Mercury - Our Solar System - #2', '.mp3')\n",
      "('Venus - Our Solar System - #3', '.mp3')\n",
      "('Jupiter - Our Solar System - #6', '.mp3')\n",
      "('Neptune - Our Solar System - #8', '.mp3')\n"
     ]
    }
   ],
   "source": [
    "for f in os.listdir():\n",
    "    print(os.path.splitext(f))"
   ]
  },
  {
   "cell_type": "code",
   "execution_count": 18,
   "metadata": {},
   "outputs": [
    {
     "name": "stdout",
     "output_type": "stream",
     "text": [
      "Uranus - Our Solar System - #9\n",
      "The Sun - Our Solar System - #1\n",
      "Saturn - Our Solar System - #7\n",
      "Earth - Our Solar System - #4\n",
      "Pluto - Our Solar System - #10\n",
      "Mars - Our Solar System - #5\n",
      "Mercury - Our Solar System - #2\n",
      "Venus - Our Solar System - #3\n",
      "Jupiter - Our Solar System - #6\n",
      "Neptune - Our Solar System - #8\n"
     ]
    }
   ],
   "source": [
    "for f in os.listdir():\n",
    "    f_name, f_ext = os.path.splitext(f)\n",
    "    print(f_name)"
   ]
  },
  {
   "cell_type": "code",
   "execution_count": 19,
   "metadata": {},
   "outputs": [
    {
     "name": "stdout",
     "output_type": "stream",
     "text": [
      "['Uranus ', ' Our Solar System ', ' #9']\n",
      "['The Sun ', ' Our Solar System ', ' #1']\n",
      "['Saturn ', ' Our Solar System ', ' #7']\n",
      "['Earth ', ' Our Solar System ', ' #4']\n",
      "['Pluto ', ' Our Solar System ', ' #10']\n",
      "['Mars ', ' Our Solar System ', ' #5']\n",
      "['Mercury ', ' Our Solar System ', ' #2']\n",
      "['Venus ', ' Our Solar System ', ' #3']\n",
      "['Jupiter ', ' Our Solar System ', ' #6']\n",
      "['Neptune ', ' Our Solar System ', ' #8']\n"
     ]
    }
   ],
   "source": [
    "for f in os.listdir():\n",
    "    f_name, f_ext = os.path.splitext(f)\n",
    "    print(f_name.split('-'))"
   ]
  },
  {
   "cell_type": "code",
   "execution_count": 20,
   "metadata": {},
   "outputs": [
    {
     "name": "stdout",
     "output_type": "stream",
     "text": [
      "Neptune \n",
      "Neptune \n",
      "Neptune \n",
      "Neptune \n",
      "Neptune \n",
      "Neptune \n",
      "Neptune \n",
      "Neptune \n",
      "Neptune \n",
      "Neptune \n"
     ]
    }
   ],
   "source": [
    "for f in os.listdir():\n",
    "    f_name, f_ext = os.path.splitext(f)\n",
    "    \n",
    "    f_title, f_course, f_num = file_name.split('-')\n",
    "    print(f_title)"
   ]
  },
  {
   "cell_type": "code",
   "execution_count": 21,
   "metadata": {},
   "outputs": [
    {
     "name": "stdout",
     "output_type": "stream",
     "text": [
      " Our Solar System \n",
      " Our Solar System \n",
      " Our Solar System \n",
      " Our Solar System \n",
      " Our Solar System \n",
      " Our Solar System \n",
      " Our Solar System \n",
      " Our Solar System \n",
      " Our Solar System \n",
      " Our Solar System \n"
     ]
    }
   ],
   "source": [
    "for f in os.listdir():\n",
    "    f_name, f_ext = os.path.splitext(f)\n",
    "    \n",
    "    f_title, f_course, f_num = file_name.split('-')\n",
    "    print(f_course)"
   ]
  },
  {
   "cell_type": "code",
   "execution_count": 22,
   "metadata": {},
   "outputs": [
    {
     "name": "stdout",
     "output_type": "stream",
     "text": [
      " #8\n",
      " #8\n",
      " #8\n",
      " #8\n",
      " #8\n",
      " #8\n",
      " #8\n",
      " #8\n",
      " #8\n",
      " #8\n"
     ]
    }
   ],
   "source": [
    "for f in os.listdir():\n",
    "    f_name, f_ext = os.path.splitext(f)\n",
    "    \n",
    "    f_title, f_course, f_num = file_name.split('-')\n",
    "    print(f_num)"
   ]
  },
  {
   "cell_type": "code",
   "execution_count": 28,
   "metadata": {},
   "outputs": [
    {
     "name": "stdout",
     "output_type": "stream",
     "text": [
      " #9- Our Solar System -Uranus .mp3\n",
      " #1- Our Solar System -The Sun .mp3\n",
      " #7- Our Solar System -Saturn .mp3\n",
      " #4- Our Solar System -Earth .mp3\n",
      " #10- Our Solar System -Pluto .mp3\n",
      " #5- Our Solar System -Mars .mp3\n",
      " #2- Our Solar System -Mercury .mp3\n",
      " #3- Our Solar System -Venus .mp3\n",
      " #6- Our Solar System -Jupiter .mp3\n",
      " #8- Our Solar System -Neptune .mp3\n"
     ]
    }
   ],
   "source": [
    "for f in os.listdir():\n",
    "    f_name, f_ext = os.path.splitext(f)\n",
    "    \n",
    "    f_title, f_course, f_num = f_name.split('-')\n",
    "    print('{}-{}-{}{}'.format(f_num, f_course, f_title, f_ext))"
   ]
  },
  {
   "cell_type": "code",
   "execution_count": 30,
   "metadata": {},
   "outputs": [
    {
     "name": "stdout",
     "output_type": "stream",
     "text": [
      "#9-Our Solar System-Uranus.mp3\n",
      "#1-Our Solar System-The Sun.mp3\n",
      "#7-Our Solar System-Saturn.mp3\n",
      "#4-Our Solar System-Earth.mp3\n",
      "#10-Our Solar System-Pluto.mp3\n",
      "#5-Our Solar System-Mars.mp3\n",
      "#2-Our Solar System-Mercury.mp3\n",
      "#3-Our Solar System-Venus.mp3\n",
      "#6-Our Solar System-Jupiter.mp3\n",
      "#8-Our Solar System-Neptune.mp3\n"
     ]
    }
   ],
   "source": [
    "for f in os.listdir():\n",
    "    f_name, f_ext = os.path.splitext(f)\n",
    " \n",
    "    f_title, f_course, f_num = f_name.split('-')\n",
    "\n",
    "    f_title = f_title.strip()\n",
    "    f_course = f_course.strip()\n",
    "    f_num = f_num.strip()\n",
    "    \n",
    "    print('{}-{}-{}{}'.format(f_num, f_course, f_title, f_ext))"
   ]
  },
  {
   "cell_type": "code",
   "execution_count": 31,
   "metadata": {},
   "outputs": [
    {
     "name": "stdout",
     "output_type": "stream",
     "text": [
      "9-Our Solar System-Uranus.mp3\n",
      "1-Our Solar System-The Sun.mp3\n",
      "7-Our Solar System-Saturn.mp3\n",
      "4-Our Solar System-Earth.mp3\n",
      "10-Our Solar System-Pluto.mp3\n",
      "5-Our Solar System-Mars.mp3\n",
      "2-Our Solar System-Mercury.mp3\n",
      "3-Our Solar System-Venus.mp3\n",
      "6-Our Solar System-Jupiter.mp3\n",
      "8-Our Solar System-Neptune.mp3\n"
     ]
    }
   ],
   "source": [
    "for f in os.listdir():\n",
    "    f_name, f_ext = os.path.splitext(f)\n",
    " \n",
    "    f_title, f_course, f_num = f_name.split('-')\n",
    "\n",
    "    f_title = f_title.strip()\n",
    "    f_course = f_course.strip()\n",
    "    f_num = f_num.strip()[1:]\n",
    "    \n",
    "    print('{}-{}-{}{}'.format(f_num, f_course, f_title, f_ext))"
   ]
  },
  {
   "cell_type": "code",
   "execution_count": 32,
   "metadata": {},
   "outputs": [
    {
     "name": "stdout",
     "output_type": "stream",
     "text": [
      "09-Our Solar System-Uranus.mp3\n",
      "01-Our Solar System-The Sun.mp3\n",
      "07-Our Solar System-Saturn.mp3\n",
      "04-Our Solar System-Earth.mp3\n",
      "10-Our Solar System-Pluto.mp3\n",
      "05-Our Solar System-Mars.mp3\n",
      "02-Our Solar System-Mercury.mp3\n",
      "03-Our Solar System-Venus.mp3\n",
      "06-Our Solar System-Jupiter.mp3\n",
      "08-Our Solar System-Neptune.mp3\n"
     ]
    }
   ],
   "source": [
    "for f in os.listdir():\n",
    "    f_name, f_ext = os.path.splitext(f)\n",
    " \n",
    "    f_title, f_course, f_num = f_name.split('-')\n",
    "\n",
    "    f_title = f_title.strip()\n",
    "    f_course = f_course.strip()\n",
    "    f_num = f_num.strip()[1:].zfill(2)\n",
    "    \n",
    "    print('{}-{}-{}{}'.format(f_num, f_course, f_title, f_ext))"
   ]
  },
  {
   "cell_type": "code",
   "execution_count": 33,
   "metadata": {},
   "outputs": [
    {
     "name": "stdout",
     "output_type": "stream",
     "text": [
      "09-Uranus.mp3\n",
      "01-The Sun.mp3\n",
      "07-Saturn.mp3\n",
      "04-Earth.mp3\n",
      "10-Pluto.mp3\n",
      "05-Mars.mp3\n",
      "02-Mercury.mp3\n",
      "03-Venus.mp3\n",
      "06-Jupiter.mp3\n",
      "08-Neptune.mp3\n"
     ]
    }
   ],
   "source": [
    "for f in os.listdir():\n",
    "    f_name, f_ext = os.path.splitext(f)\n",
    " \n",
    "    f_title, f_course, f_num = f_name.split('-')\n",
    "\n",
    "    f_title = f_title.strip()\n",
    "    f_course = f_course.strip()\n",
    "    f_num = f_num.strip()[1:].zfill(2)\n",
    "    \n",
    "    print('{}-{}{}'.format(f_num, f_title, f_ext))"
   ]
  },
  {
   "cell_type": "code",
   "execution_count": 35,
   "metadata": {},
   "outputs": [],
   "source": [
    "for f in os.listdir():\n",
    "    f_name, f_ext = os.path.splitext(f)\n",
    " \n",
    "    f_title, f_course, f_num = f_name.split('-')\n",
    "\n",
    "    f_title = f_title.strip()\n",
    "    f_course = f_course.strip()\n",
    "    f_num = f_num.strip()[1:].zfill(2)\n",
    "    \n",
    "    new_name = '{}-{}{}'.format(f_num, f_title, f_ext)\n",
    "    \n",
    "    os.rename(f, new_name)"
   ]
  }
 ],
 "metadata": {
  "kernelspec": {
   "display_name": "Python 3",
   "language": "python",
   "name": "python3"
  },
  "language_info": {
   "codemirror_mode": {
    "name": "ipython",
    "version": 3
   },
   "file_extension": ".py",
   "mimetype": "text/x-python",
   "name": "python",
   "nbconvert_exporter": "python",
   "pygments_lexer": "ipython3",
   "version": "3.8.3"
  }
 },
 "nbformat": 4,
 "nbformat_minor": 4
}
